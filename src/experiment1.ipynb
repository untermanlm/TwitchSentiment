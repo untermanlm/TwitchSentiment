{
 "cells": [
  {
   "cell_type": "code",
   "execution_count": null,
   "metadata": {},
   "outputs": [],
   "source": [
    "'''\n",
    "Using LLM to extract sentiment from Twitch chat messages\n",
    "Twitch is a livestreaming platform where people can go to watch gaming or IRL content\n",
    "It could be useful to discern the sentiment of Twitch chat messages to determine how \n",
    "people respond to things in-stream advertisements, e-sports events, or marketing. \n",
    "'''"
   ]
  },
  {
   "cell_type": "code",
   "execution_count": 1,
   "metadata": {},
   "outputs": [
    {
     "name": "stdout",
     "output_type": "stream",
     "text": [
      "Note: you may need to restart the kernel to use updated packages.\n",
      "Note: you may need to restart the kernel to use updated packages.\n"
     ]
    }
   ],
   "source": [
    "%pip install  torch -qq\n",
    "%pip install  accelerate  transformers datasets evaluate tensorboard -qq"
   ]
  },
  {
   "cell_type": "code",
   "execution_count": 2,
   "metadata": {},
   "outputs": [
    {
     "name": "stdout",
     "output_type": "stream",
     "text": [
      "Looking in indexes: https://download.pytorch.org/whl/cu121\n",
      "Requirement already satisfied: torch in d:\\cs\\ml\\asgn6\\.venv\\lib\\site-packages (2.1.1+cu121)\n",
      "Requirement already satisfied: torchvision in d:\\cs\\ml\\asgn6\\.venv\\lib\\site-packages (0.16.1+cu121)\n",
      "Requirement already satisfied: torchaudio in d:\\cs\\ml\\asgn6\\.venv\\lib\\site-packages (2.1.1+cu121)\n",
      "Requirement already satisfied: filelock in d:\\cs\\ml\\asgn6\\.venv\\lib\\site-packages (from torch) (3.13.1)\n",
      "Requirement already satisfied: typing-extensions in d:\\cs\\ml\\asgn6\\.venv\\lib\\site-packages (from torch) (4.8.0)\n",
      "Requirement already satisfied: sympy in d:\\cs\\ml\\asgn6\\.venv\\lib\\site-packages (from torch) (1.12)\n",
      "Requirement already satisfied: networkx in d:\\cs\\ml\\asgn6\\.venv\\lib\\site-packages (from torch) (3.2.1)\n",
      "Requirement already satisfied: jinja2 in d:\\cs\\ml\\asgn6\\.venv\\lib\\site-packages (from torch) (3.1.2)\n",
      "Requirement already satisfied: fsspec in d:\\cs\\ml\\asgn6\\.venv\\lib\\site-packages (from torch) (2023.10.0)\n",
      "Requirement already satisfied: numpy in d:\\cs\\ml\\asgn6\\.venv\\lib\\site-packages (from torchvision) (1.26.2)\n",
      "Requirement already satisfied: requests in d:\\cs\\ml\\asgn6\\.venv\\lib\\site-packages (from torchvision) (2.31.0)\n",
      "Requirement already satisfied: pillow!=8.3.*,>=5.3.0 in d:\\cs\\ml\\asgn6\\.venv\\lib\\site-packages (from torchvision) (9.3.0)\n",
      "Requirement already satisfied: MarkupSafe>=2.0 in d:\\cs\\ml\\asgn6\\.venv\\lib\\site-packages (from jinja2->torch) (2.1.3)\n",
      "Requirement already satisfied: charset-normalizer<4,>=2 in d:\\cs\\ml\\asgn6\\.venv\\lib\\site-packages (from requests->torchvision) (3.3.2)\n",
      "Requirement already satisfied: idna<4,>=2.5 in d:\\cs\\ml\\asgn6\\.venv\\lib\\site-packages (from requests->torchvision) (3.6)\n",
      "Requirement already satisfied: urllib3<3,>=1.21.1 in d:\\cs\\ml\\asgn6\\.venv\\lib\\site-packages (from requests->torchvision) (2.1.0)\n",
      "Requirement already satisfied: certifi>=2017.4.17 in d:\\cs\\ml\\asgn6\\.venv\\lib\\site-packages (from requests->torchvision) (2023.11.17)\n",
      "Requirement already satisfied: mpmath>=0.19 in d:\\cs\\ml\\asgn6\\.venv\\lib\\site-packages (from sympy->torch) (1.3.0)\n",
      "Note: you may need to restart the kernel to use updated packages.\n"
     ]
    }
   ],
   "source": [
    "%pip install torch torchvision torchaudio --index-url https://download.pytorch.org/whl/cu121"
   ]
  },
  {
   "cell_type": "code",
   "execution_count": 3,
   "metadata": {},
   "outputs": [
    {
     "name": "stderr",
     "output_type": "stream",
     "text": [
      "d:\\CS\\ML\\asgn6\\.venv\\lib\\site-packages\\tqdm\\auto.py:21: TqdmWarning: IProgress not found. Please update jupyter and ipywidgets. See https://ipywidgets.readthedocs.io/en/stable/user_install.html\n",
      "  from .autonotebook import tqdm as notebook_tqdm\n"
     ]
    }
   ],
   "source": [
    "from huggingface_hub import login\n",
    "from transformers import AutoTokenizer\n",
    "import transformers\n",
    "import torch\n",
    "import time\n",
    "import json"
   ]
  },
  {
   "cell_type": "code",
   "execution_count": 4,
   "metadata": {},
   "outputs": [
    {
     "name": "stdout",
     "output_type": "stream",
     "text": [
      "Token is valid (permission: write).\n",
      "Your token has been saved in your configured git credential helpers (manager-core).\n",
      "Your token has been saved to C:\\Users\\lukeu\\.cache\\huggingface\\token\n",
      "Login successful\n"
     ]
    }
   ],
   "source": [
    "# Reading in HF token here, logging into HF for access of LLama-2\n",
    "with open(\"secrets.json\", \"r\") as file:\n",
    "    secrets = json.load(file)\n",
    "login(\n",
    "  token=secrets[\"hf_token\"], \n",
    "  add_to_git_credential=True\n",
    ")\n",
    "\n",
    "model = \"meta-llama/Llama-2-7b-chat-hf\" # this is the smallest (7 billion weights) LLaMa model, it fits on colab T4 GPU. See here for other models: https://huggingface.co/meta-llama\n",
    "\n"
   ]
  },
  {
   "cell_type": "code",
   "execution_count": 5,
   "metadata": {},
   "outputs": [
    {
     "name": "stderr",
     "output_type": "stream",
     "text": [
      "Loading checkpoint shards: 100%|██████████| 2/2 [00:02<00:00,  1.16s/it]\n",
      "WARNING:root:Some parameters are on the meta device device because they were offloaded to the cpu.\n"
     ]
    },
    {
     "name": "stdout",
     "output_type": "stream",
     "text": [
      "Took 3 seconds\n"
     ]
    }
   ],
   "source": [
    "# Loading model\n",
    "t0=time.time()\n",
    "tokenizer = AutoTokenizer.from_pretrained(model)\n",
    "pipeline = transformers.pipeline(\n",
    "    \"text-generation\",\n",
    "    model=model,\n",
    "    torch_dtype=torch.float16,\n",
    "    device_map=\"auto\",\n",
    ")\n",
    "t1=time.time();\n",
    "print(\"Took %d seconds\"%(t1-t0))"
   ]
  },
  {
   "cell_type": "code",
   "execution_count": 6,
   "metadata": {},
   "outputs": [
    {
     "data": {
      "text/plain": [
       "17"
      ]
     },
     "execution_count": 6,
     "metadata": {},
     "output_type": "execute_result"
    }
   ],
   "source": [
    "import socket\n",
    "from collections import Counter\n",
    "\n",
    "# Reading in live comments from a Twitch chat to determine their respective sentiments\n",
    "# Twitch IRC server information\n",
    "SERVER = \"irc.twitch.tv\"\n",
    "PORT = 6667\n",
    "BOT_TOKEN = secrets[\"twitch_oath\"]\n",
    "BOT_NICK = secrets[\"twitch_nick\"]\n",
    "CHANNEL= '#zackrawrr'\n",
    "\n",
    "# Connect to Twitch IRC server\n",
    "sock = socket.socket(socket.AF_INET, socket.SOCK_STREAM)\n",
    "sock.connect((SERVER, PORT))\n",
    "\n",
    "# Authenticate and join the channel\n",
    "sock.send(f\"PASS {BOT_TOKEN}\\r\\n\".encode(\"utf-8\"))\n",
    "sock.send(f\"NICK {BOT_NICK}\\r\\n\".encode(\"utf-8\"))\n",
    "sock.send(f\"JOIN {CHANNEL}\\r\\n\".encode(\"utf-8\"))"
   ]
  },
  {
   "cell_type": "code",
   "execution_count": 7,
   "metadata": {},
   "outputs": [
    {
     "name": "stdout",
     "output_type": "stream",
     "text": [
      "oopsifeededagain: are you gna be playin poe season on the 8th\n",
      "bitlegions: Wait till you get a pet and u instant tag and pet abuse them lol\n",
      "tatatatatatatat: idk if blizzard has a balance team, they'd def play warlock\n",
      "lazilyenraged: But you get a shittier victory rush as a warrior lololol\n",
      "rma_90: bro its like you playing a hunter so many pets around u\n",
      "spergler_: it looks like you’ve never played before and you’re 10 years old just having an amazing time casting spells\n",
      "lebrewski: warlock was the original Heroic Class before DK\n",
      "bitlegions: who needs health when you have a PET lol\n",
      "prophecy_78: Think you'll check out new PoE league as well?\n",
      "tazzasaurus: have to complete bfd to get metamorph -.- :(\n",
      "imkrox_: Hearing stuff like \"are you going tank lock\" is INSANE to me\n",
      "bdidddles: bro your only lvl 3 its not op yet\n",
      "morningglory747: Do you think classic is going in the right direction after playing SOD? @zackrawrr\n",
      "matil_m: what server is he playing, I still can not understand >?\n",
      "infuze27: ur mana problems is the healers mana probnlem\n",
      "crumbshirt: long time priest here, leveling a priest , i have not TOUCHED my wand\n",
      "vhesha: 0 mana problems, get master channeling rune and just keep drain life up 100%\n",
      "worrosofalbion: Use the wand and it will be clear :)\n",
      "ne0sen: lifestap drainlife/drain mana, wand is fine but you rarely go oom\n",
      "choppaptz: haunt heal can be nice for a quick tap\n",
      "therealtweex: as someone who has made it to 21 on a lock you are in for a rude awakening\n",
      "the_worn_pixel: chatters saying life tap sucks are trash at the game LUL\n",
      "pen0polis: Clearly you havent played a lock, life tap wont save you\n",
      "thepunkmonk: got mana problems life tap got life problems drain life\n",
      "yonz08: i dot mobs and while it's bashing me i life tap - its the meta\n"
     ]
    }
   ],
   "source": [
    "import time\n",
    "import re\n",
    "\n",
    "# Ignoring non IRC Twitch chat messages\n",
    "                        # any Twitch username       # IRC server  # PRIVMSG   #Twitch channel        # Message\n",
    "pattern = re.compile(r\":([a-zA-Z0-9_]{3,25})!\\1@\\1.tmi.twitch.tv\\sPRIVMSG\\s#([a-zA-Z0-9_]{3,25})\\s:(.*)\")\n",
    "\n",
    "# Keep receiving messages from IRC server until responses [] has len num_messages\n",
    "num_messages = 25\n",
    "responses = []\n",
    "while len(responses) < num_messages:\n",
    "  resp = sock.recv(2048).decode('utf-8')\n",
    "  if pattern.match(resp): # If the message is a comment\n",
    "    groups = pattern.search(resp)\n",
    "    username = groups.group(1)\n",
    "    if username == 'fossabot': # Ignoring comments from bots (known neutral sentiment)\n",
    "        continue\n",
    "    channel = groups.group(2)\n",
    "    message = groups.group(3)\n",
    "    if len(message.split(' ')) > 7: # Arbitrary 7 word limit; makes messages more diverse (usually people just spam the same thing)\n",
    "      print(f'{username}: {message}')\n",
    "      responses.append(message)\n",
    "\n",
    "# If you cannot tell people are talking about World of Warcraft"
   ]
  },
  {
   "cell_type": "code",
   "execution_count": 16,
   "metadata": {},
   "outputs": [
    {
     "name": "stdout",
     "output_type": "stream",
     "text": [
      "Discerning sentiment from Twitch Chat messages!\n",
      "\n",
      "[{'generated_text': '<s>[INST] <<SYS>>\\\\nFor each of these Twitch Chat messages, simply classify the message as POSITIVE, NEGATIVE, or NEUTRAL.\\nExample: Wow that\\'s so cool!\\nOutput: POSITIVE. Only write one word.\\\\n<</SYS>>\\\\n\\\\n[\\'are you gna be playin poe season on the 8th\\\\r\\', \\'Wait till you get a pet and u instant tag and pet abuse them lol\\\\r\\', \"idk if blizzard has a balance team, they\\'d def play warlock\\\\r\", \\'But you get a shittier victory rush as a warrior lololol\\\\r\\', \\'bro its like you playing a hunter so many pets around u\\\\r\\', \\'it looks like you’ve never played before and you’re 10 years old just having an amazing time casting spells\\\\r\\', \\'warlock was the original Heroic Class before DK\\\\r\\', \\'who needs health when you have a PET lol\\\\r\\', \"Think you\\'ll check out new PoE league as well?\\\\r\", \\'have to complete bfd to get metamorph -.- :(\\\\r\\', \\'Hearing stuff like \"are you going tank lock\" is INSANE to me\\\\r\\'][/INST]  Sure! Here are the classifications for each of the Twitch chat messages you provided:\\n\\n* \\'are you gna be playin poe season on the 8th\\' - NEUTRAL\\n* \\'Wait till you get a pet and u instant tag and pet abuse them lol\\' - NEGATIVE\\n* \"idk if blizzard has a balance team, they\\'d def play warlock\" - POSITIVE\\n* \\'But you get a shittier victory rush as a warrior lololol\\' - NEGATIVE\\n* \\'bro its like you playing a hunter so many pets around u\\' - POSITIVE\\n* \\'it looks like you’ve never played before and you’re 10 years old just having an amazing time casting spells\\' - NEUTRAL\\n* \\'warlock was the original Heroic Class before DK\\' - POSITIVE\\n* \\'who needs health when you'}]\n",
      "Sure! Here are the classifications for each of the Twitch chat messages you provided: * 'are you gna be playin poe season on the 8th' - NEUTRAL * 'Wait till you get a pet and u instant tag and pet abuse them lol' - NEGATIVE * \"idk if blizzard has a balance team, they'd def play warlock\" - POSITIVE * 'But you get a shittier victory rush as a warrior lololol' - NEGATIVE * 'bro its like you playing a hunter so many pets around u' - POSITIVE * 'it looks like you’ve never played before and you’re 10 years old just having an amazing time casting spells' - NEUTRAL * 'warlock was the original Heroic Class before DK' - POSITIVE * 'who needs health when you\n"
     ]
    }
   ],
   "source": [
    "# Using LLM to discern sentiment from Twitch Messages\n",
    "\n",
    "def remove_prefix(text, prefix):\n",
    "    if text.startswith(prefix):\n",
    "        return text[len(prefix):]\n",
    "    else:\n",
    "        return text\n",
    "llama_responses = []\n",
    "print(\"Discerning sentiment from Twitch Chat messages!\\n\")\n",
    "system = \"For each of these Twitch Chat messages, simply classify the message as POSITIVE, NEGATIVE, or NEUTRAL.\\nExample: Wow that's so cool!\\nOutput: POSITIVE. Only write one word.\"\n",
    "user = responses[:11] # Cutting off responses to fulfill character limit\n",
    "prompt = f\"<s>[INST] <<SYS>>\\\\n{system}\\\\n<</SYS>>\\\\n\\\\n{user}[/INST]\"\n",
    "sequences = pipeline(\n",
    "    prompt,\n",
    "    do_sample=True,\n",
    "    top_k=10,\n",
    "    num_return_sequences=1,\n",
    "    eos_token_id=tokenizer.eos_token_id,\n",
    "    max_length=512,\n",
    ")\n",
    "print(sequences)\n",
    "response = sequences[0]['generated_text']\n",
    "response = remove_prefix(response, prompt)\n",
    "response = re.sub(r'\\s+', ' ', response.replace('\\n', ' ')).strip()\n",
    "print(response)\n",
    "\n",
    "llama_responses.append(response)"
   ]
  },
  {
   "cell_type": "code",
   "execution_count": 17,
   "metadata": {},
   "outputs": [
    {
     "name": "stdout",
     "output_type": "stream",
     "text": [
      "Discerning sentiment from Twitch Chat messages!\n",
      "\n",
      "[{'generated_text': \"<s>[INST] <<SYS>>\\\\nFor each of these Twitch Chat messages, simply classify the message as POSITIVE, NEGATIVE, or NEUTRAL.\\nExample: Wow that's so cool!\\nOutput: POSITIVE. Only write one word.\\\\n<</SYS>>\\\\n\\\\n['bro your only lvl 3 its not op yet\\\\r', 'Do you think classic is going in the right direction after playing SOD? @zackrawrr\\\\r', 'what server is he playing, I still can not understand >?\\\\r', 'ur mana problems is the healers mana probnlem\\\\r', 'long time priest here, leveling a priest , i have not TOUCHED my wand\\\\r', '0 mana problems, get master channeling rune and just keep drain life up 100%\\\\r', 'Use the wand and it will be clear :)\\\\r', 'lifestap drainlife/drain mana, wand is fine but you rarely go oom\\\\r', 'haunt heal can be nice for a quick tap\\\\r', 'as someone who has made it to 21 on a lock you are in for a rude awakening\\\\r', 'chatters saying life tap sucks are trash at the game LUL\\\\r'][/INST]  Sure! Here are the classifications for each of the Twitch Chat messages you provided:\\n\\n* 'bro your only lvl 3 its not op yet' - NEGATIVE\\n* 'Do you think classic is going in the right direction after playing SOD? @zackrawrr' - NEUTRAL\\n* 'what server is he playing, I still can not understand >?' - NEUTRAL\\n* 'ur mana problems is the healers mana probnlem' - NEGATIVE\\n* 'long time priest here, leveling a priest, i have not TOUCHED my wand' - POSITIVE\\n* '0 mana problems, get master channeling rune and just keep drain life up 100%' - POSITIVE\\n* 'Use the wand and it will be clear :)' - POSITIVE\\n* 'lifestap drainlife/drain mana, wand is fine\"}]\n",
      "Sure! Here are the classifications for each of the Twitch Chat messages you provided: * 'bro your only lvl 3 its not op yet' - NEGATIVE * 'Do you think classic is going in the right direction after playing SOD? @zackrawrr' - NEUTRAL * 'what server is he playing, I still can not understand >?' - NEUTRAL * 'ur mana problems is the healers mana probnlem' - NEGATIVE * 'long time priest here, leveling a priest, i have not TOUCHED my wand' - POSITIVE * '0 mana problems, get master channeling rune and just keep drain life up 100%' - POSITIVE * 'Use the wand and it will be clear :)' - POSITIVE * 'lifestap drainlife/drain mana, wand is fine\n"
     ]
    }
   ],
   "source": [
    "# Doing same thing to get more responses from Llama\n",
    "print(\"Discerning sentiment from Twitch Chat messages!\\n\")\n",
    "system = \"For each of these Twitch Chat messages, simply classify the message as POSITIVE, NEGATIVE, or NEUTRAL.\\nExample: Wow that's so cool!\\nOutput: POSITIVE. Only write one word.\"\n",
    "user = responses[11:22]\n",
    "prompt = f\"<s>[INST] <<SYS>>\\\\n{system}\\\\n<</SYS>>\\\\n\\\\n{user}[/INST]\"\n",
    "sequences = pipeline(\n",
    "    prompt,\n",
    "    do_sample=True,\n",
    "    top_k=10,\n",
    "    num_return_sequences=1,\n",
    "    eos_token_id=tokenizer.eos_token_id,\n",
    "    max_length=512,\n",
    ")\n",
    "print(sequences)\n",
    "response = sequences[0]['generated_text']\n",
    "response = remove_prefix(response, prompt)\n",
    "response = re.sub(r'\\s+', ' ', response.replace('\\n', ' ')).strip()\n",
    "print(response)\n",
    "llama_responses.append(response)"
   ]
  },
  {
   "cell_type": "code",
   "execution_count": 18,
   "metadata": {},
   "outputs": [
    {
     "data": {
      "text/plain": [
       "['Sure! Here are the classifications for each of the Twitch chat messages you provided: * \\'are you gna be playin poe season on the 8th\\' - NEUTRAL * \\'Wait till you get a pet and u instant tag and pet abuse them lol\\' - NEGATIVE * \"idk if blizzard has a balance team, they\\'d def play warlock\" - POSITIVE * \\'But you get a shittier victory rush as a warrior lololol\\' - NEGATIVE * \\'bro its like you playing a hunter so many pets around u\\' - POSITIVE * \\'it looks like you’ve never played before and you’re 10 years old just having an amazing time casting spells\\' - NEUTRAL * \\'warlock was the original Heroic Class before DK\\' - POSITIVE * \\'who needs health when you',\n",
       " \"Sure! Here are the classifications for each of the Twitch Chat messages you provided: * 'bro your only lvl 3 its not op yet' - NEGATIVE * 'Do you think classic is going in the right direction after playing SOD? @zackrawrr' - NEUTRAL * 'what server is he playing, I still can not understand >?' - NEUTRAL * 'ur mana problems is the healers mana probnlem' - NEGATIVE * 'long time priest here, leveling a priest, i have not TOUCHED my wand' - POSITIVE * '0 mana problems, get master channeling rune and just keep drain life up 100%' - POSITIVE * 'Use the wand and it will be clear :)' - POSITIVE * 'lifestap drainlife/drain mana, wand is fine\"]"
      ]
     },
     "execution_count": 18,
     "metadata": {},
     "output_type": "execute_result"
    }
   ],
   "source": [
    "llama_responses"
   ]
  },
  {
   "cell_type": "code",
   "execution_count": 20,
   "metadata": {},
   "outputs": [
    {
     "name": "stdout",
     "output_type": "stream",
     "text": [
      "n = 13\n",
      "Negative: 30.76923076923077%\n",
      "Positive: 38.46153846153847%\n",
      "Neutral: 30.76923076923077%\n"
     ]
    },
    {
     "data": {
      "text/plain": [
       "{\"'are you gna be playin poe season on the 8th'\": 'NEUTRAL',\n",
       " \"'Wait till you get a pet and u instant tag and pet abuse them lol'\": 'NEGATIVE',\n",
       " \"'But you get a shittier victory rush as a warrior lololol'\": 'NEGATIVE',\n",
       " \"'bro its like you playing a hunter so many pets around u'\": 'POSITIVE',\n",
       " \"'it looks like you’ve never played before and you’re 10 years old just having an amazing time casting spells'\": 'NEUTRAL',\n",
       " \"'warlock was the original Heroic Class before DK'\": 'POSITIVE',\n",
       " \"'who needs health when youSure! Here are the classifications for each of the Twitch Chat messages you provided: * 'bro your only lvl 3 its not op yet'\": 'NEGATIVE',\n",
       " \"'Do you think classic is going in the right direction after playing SOD? @zackrawrr'\": 'NEUTRAL',\n",
       " \"'what server is he playing, I still can not understand >?'\": 'NEUTRAL',\n",
       " \"'ur mana problems is the healers mana probnlem'\": 'NEGATIVE',\n",
       " \"'long time priest here, leveling a priest, i have not TOUCHED my wand'\": 'POSITIVE',\n",
       " \"'0 mana problems, get master channeling rune and just keep drain life up 100%'\": 'POSITIVE',\n",
       " \"'Use the wand and it will be clear :)'\": 'POSITIVE'}"
      ]
     },
     "execution_count": 20,
     "metadata": {},
     "output_type": "execute_result"
    }
   ],
   "source": [
    "# Forming dictionary for each response and sentiment to clean up sentiment decisions\n",
    "total_responses = llama_responses[0] + llama_responses[1]\n",
    "\n",
    "# Extracting only necessary information from chatbot responses\n",
    "                    # Extract msg     # Extract sentiment\n",
    "sentiment_pattern = r'(\\'.*\\').*(POSITIVE|NEGATIVE|NEUTRAL)'\n",
    "sentiments = ['POSITIVE', 'NEGATIVE', 'NEUTRAL']\n",
    "filtered = ''\n",
    "\n",
    "# Attempt to add new line when sentiment decision reached \n",
    "# Easier for counting of sentiments\n",
    "for word in total_responses.split(' '):\n",
    "    if word in sentiments:\n",
    "        filtered += word+'\\n'\n",
    "    else:\n",
    "        filtered += word+' '\n",
    "filtered_lines = filtered.splitlines()\n",
    "\n",
    "# Add each msg + sentiment combo to dict for prettier printing + access to sentiment decisions\n",
    "sentiments_dict = {}\n",
    "for line in filtered_lines:\n",
    "    pat_match = re.search(sentiment_pattern, line)\n",
    "    if pat_match is not None:\n",
    "        message = pat_match.group(1)\n",
    "        sent = pat_match.group(2)\n",
    "        sentiments_dict[message] = sent\n",
    "\n",
    "# Counting sentiment proportionality; determine what subset of chat messages might be like (positive? negative? neutral?)\n",
    "negative = 0\n",
    "positive = 0\n",
    "neutral = 0\n",
    "for val in sentiments_dict.values():\n",
    "    if val == 'NEGATIVE':\n",
    "        negative += 1\n",
    "    elif val == 'POSITIVE':\n",
    "        positive += 1\n",
    "    elif val == 'NEUTRAL':\n",
    "        neutral += 1\n",
    "total = negative + positive + neutral\n",
    "\n",
    "# Printing results\n",
    "print(f'n = {total}')\n",
    "print(f'Negative: {negative / total * 100}%')\n",
    "print(f'Positive: {positive / total * 100}%')\n",
    "print(f'Neutral: {neutral / total * 100}%')\n",
    "sentiments_dict"
   ]
  }
 ],
 "metadata": {
  "kernelspec": {
   "display_name": ".venv",
   "language": "python",
   "name": "python3"
  },
  "language_info": {
   "codemirror_mode": {
    "name": "ipython",
    "version": 3
   },
   "file_extension": ".py",
   "mimetype": "text/x-python",
   "name": "python",
   "nbconvert_exporter": "python",
   "pygments_lexer": "ipython3",
   "version": "3.10.11"
  }
 },
 "nbformat": 4,
 "nbformat_minor": 2
}
